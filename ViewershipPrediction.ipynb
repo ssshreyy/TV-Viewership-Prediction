{
 "cells": [
  {
   "cell_type": "code",
   "execution_count": 1,
   "metadata": {
    "collapsed": true
   },
   "outputs": [],
   "source": [
    "import pandas as pd\n",
    "import matplotlib.pyplot as plt\n",
    "import tensorflow as tf\n",
    "import pickle\n",
    "import numpy as np\n",
    "from sklearn.svm import SVC\n",
    "from sklearn.metrics import roc_auc_score\n",
    "from sklearn.naive_bayes import MultinomialNB\n",
    "from sklearn.ensemble import RandomForestClassifier\n",
    "from sklearn.linear_model import LogisticRegression\n",
    "from sklearn.linear_model import LinearRegression\n",
    "from sklearn.model_selection import train_test_split\n",
    "from sklearn import neighbors\n",
    "from sklearn.model_selection import GridSearchCV\n",
    "from sklearn.preprocessing import MinMaxScaler\n",
    "scaler = MinMaxScaler(feature_range=(0, 1))\n",
    "\n",
    "\n",
    "def train_classifier(features_train, features_test, label_train, label_test, classifier):\n",
    "    if classifier == \"Logistic_Regression\":\n",
    "        model = LogisticRegression(C=1.)\n",
    "    elif classifier == \"Naive_Bayes\":\n",
    "        model = MultinomialNB()\n",
    "    elif classifier == \"SVM\":\n",
    "        model = SVC()\n",
    "    elif classifier == \"Linear\":\n",
    "        model = LinearRegression()    \n",
    "    elif classifier == \"Random_Forest\":\n",
    "        model = RandomForestClassifier(n_estimators=400, random_state=11)\n",
    "    elif classifier == \"Kmeans\":\n",
    "        knn = neighbors.KNeighborsRegressor()\n",
    "        params = {'n_neighbors':[2,3,4,5,6,7,8,9]}\n",
    "        model = GridSearchCV(knn, params, cv=5)\n",
    "    else:\n",
    "        print(\"Incorrect Selection Of Classifier\")\n",
    "\n",
    "    model.fit(features_train, label_train)\n",
    "    print(\"Model Fitting Done\")\n",
    "\n",
    "    fileName = './Sentiment_models/' + classifier + '.pickle'\n",
    "    with open(fileName, 'wb') as file:\n",
    "        pickle.dump(model, file)\n",
    "    print(\"Pickle File Created %s\" % fileName)\n",
    "\n",
    "    accuracy = model.score(features_test, label_test)\n",
    "    print(\"Accuracy Is:\", accuracy)\n",
    "\n",
    "    return model"
   ]
  },
  {
   "cell_type": "code",
   "execution_count": 3,
   "metadata": {},
   "outputs": [
    {
     "name": "stdout",
     "output_type": "stream",
     "text": [
      "File read\n   US_Viewers_In_Millions    Views  IMDB_Rating  IMDB_Votes  Retweets  \\\n0                 8650000  36227.0          6.8       481.0       0.0   \n1                14620000  40194.0          6.7       552.0       0.0   \n2                 5110000  40854.0          7.1       532.0       0.0   \n3                 5870000  44945.0          6.8       525.0       0.0   \n4                 6080000  41059.0          6.6       496.0       0.0   \n\n   Favorites  Vader_Score  Sentiment_Score  Tweets_Per_Day  Unique_Users  \n0        0.0       0.0000              0.0        0.000000             0  \n1        0.0       0.1806             28.0       26.285714           143  \n2        0.0       0.0000              0.0       39.333333           566  \n3        0.0       0.0000              0.0       23.785714           278  \n4        0.0       0.0000              0.0       24.714286           139  \n"
     ]
    }
   ],
   "source": [
    "#ID,Title,Air_Date,Production_Code,Season,Episode_No.,Total_Episodes_Till_Now,US_Viewers_In_Millions,Views,IMDB_Rating,IMDB_Votes,Image_URL,Video_URL,Retweets,Favorites,Vader_Score,Sentiment_Score,Tweets_Per_Day,Unique_Users\n",
    "\n",
    "fileName=\"simpsons_episodes.csv\"\n",
    "my_df = pd.read_csv(fileName)\n",
    "\n",
    "print(\"File read\")\n",
    "for i in ['ID','Title','Air_Date','Production_Code','Season','Episode_No.',\n",
    "          'Total_Episodes_Till_Now','Image_URL','Video_URL']:\n",
    "    del my_df[i]\n",
    "print(my_df.head())\n",
    "my_df_temp =my_df   \n",
    "     "
   ]
  },
  {
   "cell_type": "code",
   "execution_count": 4,
   "metadata": {},
   "outputs": [
    {
     "name": "stdout",
     "output_type": "stream",
     "text": [
      "<class 'pandas.core.frame.DataFrame'>\nRangeIndex: 146 entries, 0 to 145\nData columns (total 10 columns):\nUS_Viewers_In_Millions    146 non-null int64\nViews                     146 non-null float64\nIMDB_Rating               146 non-null float64\nIMDB_Votes                146 non-null float64\nRetweets                  146 non-null float64\nFavorites                 146 non-null float64\nVader_Score               146 non-null float64\nSentiment_Score           146 non-null float64\nTweets_Per_Day            146 non-null float64\nUnique_Users              146 non-null int64\ndtypes: float64(8), int64(2)\nmemory usage: 11.5 KB\n"
     ]
    }
   ],
   "source": [
    "my_df.dropna(inplace=True)\n",
    "my_df.reset_index(drop=True,inplace=True)\n",
    "my_df.info()"
   ]
  },
  {
   "cell_type": "code",
   "execution_count": 5,
   "metadata": {},
   "outputs": [
    {
     "name": "stdout",
     "output_type": "stream",
     "text": [
      "     Views  IMDB_Rating  IMDB_Votes  Retweets  Favorites  Vader_Score  \\\n0  36227.0          6.8       481.0       0.0        0.0       0.0000   \n1  40194.0          6.7       552.0       0.0        0.0       0.1806   \n2  40854.0          7.1       532.0       0.0        0.0       0.0000   \n3  44945.0          6.8       525.0       0.0        0.0       0.0000   \n4  41059.0          6.6       496.0       0.0        0.0       0.0000   \n\n   Sentiment_Score  Tweets_Per_Day  Unique_Users  \n0              0.0        0.000000             0  \n1             28.0       26.285714           143  \n2              0.0       39.333333           566  \n3              0.0       23.785714           278  \n4              0.0       24.714286           139  \n   US_Viewers_In_Millions\n0                 8650000\n1                14620000\n2                 5110000\n3                 5870000\n4                 6080000\n"
     ]
    }
   ],
   "source": [
    "# x = my_df_temp.drop('US_Viewers_In_Millions', axis=1)  \n",
    "# y = my_df['US_Viewers_In_Millions']\n",
    "\n",
    "X = my_df.loc[:, ['Views','IMDB_Rating','IMDB_Votes','Retweets','Favorites','Vader_Score',\n",
    "               'Sentiment_Score','Tweets_Per_Day','Unique_Users']]\n",
    "\n",
    "y = my_df.loc[:, ['US_Viewers_In_Millions']]\n",
    "print(X.head())\n",
    "print(y.head())\n"
   ]
  },
  {
   "cell_type": "code",
   "execution_count": 6,
   "metadata": {},
   "outputs": [
    {
     "name": "stdout",
     "output_type": "stream",
     "text": [
      "Shape of X_train:  (131, 9)\nShape of y_train:  (131, 1)\nShape of X_test:  (15, 9)\nShape of y_test (15, 1)\n"
     ]
    }
   ],
   "source": [
    "X_train, X_test, y_train, y_test = train_test_split(X, y, test_size = 0.1, random_state=0)\n",
    "# let's print shape of each train and testing\n",
    "print(\"Shape of X_train: \", X_train.shape)\n",
    "print(\"Shape of y_train: \", y_train.shape)\n",
    "print(\"Shape of X_test: \", X_test.shape)\n",
    "print(\"Shape of y_test\", y_test.shape)"
   ]
  },
  {
   "cell_type": "code",
   "execution_count": 7,
   "metadata": {},
   "outputs": [
    {
     "name": "stdout",
     "output_type": "stream",
     "text": [
      "Model Training Started\nModel Fitting Done\nPickle File Created ./Sentiment_models/Linear.pickle\nAccuracy Is: 0.18724254715046196\nModel Training Complete\n"
     ]
    }
   ],
   "source": [
    "print(\"Model Training Started\")\n",
    "algorithm = \"Linear\"\n",
    "model = train_classifier(X_train,X_test, y_train, y_test, algorithm)\n",
    "print(\"Model Training Complete\")\n"
   ]
  },
  {
   "cell_type": "code",
   "execution_count": 1,
   "metadata": {},
   "outputs": [],
   "source": [
    "import os\n",
    "import tensorflow as tf\n",
    "os.environ['TF_CPP_MIN_LOG_LEVEL'] = \"99\"\n"
   ]
  },
  {
   "cell_type": "code",
   "execution_count": 2,
   "metadata": {},
   "outputs": [],
   "source": [
    "# Test with a simple computation\n",
    "import tensorflow as tf\n"
   ]
  },
  {
   "cell_type": "code",
   "execution_count": null,
   "metadata": {},
   "outputs": [],
   "source": []
  }
 ],
 "metadata": {
  "kernelspec": {
   "display_name": "Python 2",
   "language": "python",
   "name": "python2"
  },
  "language_info": {
   "codemirror_mode": {
    "name": "ipython",
    "version": 2
   },
   "file_extension": ".py",
   "mimetype": "text/x-python",
   "name": "python",
   "nbconvert_exporter": "python",
   "pygments_lexer": "ipython2",
   "version": "2.7.6"
  }
 },
 "nbformat": 4,
 "nbformat_minor": 0
}
